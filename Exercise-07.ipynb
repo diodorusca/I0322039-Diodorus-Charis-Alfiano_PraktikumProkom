{
 "cells": [
  {
   "cell_type": "code",
   "execution_count": 24,
   "metadata": {},
   "outputs": [
    {
     "data": {
      "text/plain": [
       "[[3, 4], [3, 4]]"
      ]
     },
     "execution_count": 24,
     "metadata": {},
     "output_type": "execute_result"
    }
   ],
   "source": [
    "#Buatlah sebuah fungsi untuk membuat matrix berdasarkan input dari user\n",
    "\n",
    "def create_matrix(baris,kolom):\n",
    "    matrix = []\n",
    "    \n",
    "#Tulis kode kamu disini\n",
    "    for i in range(baris):\n",
    "\n",
    "# menambahkan baris kosong ke matriks\n",
    "        matrix.append([]) \n",
    "        for j in range(kolom):\n",
    "\n",
    "# user memasukkan elemen matriks\n",
    "            elemen = int(input(f\"Masukkan elemen matrix [{i}][{j}]: \"))\n",
    "            matrix[i].append(elemen)\n",
    "\n",
    "    return matrix\n",
    "\n",
    "baris = int(input(\"\\tMasukkan Jumlah Baris:\"))\n",
    "kolom = int(input(\"\\tMasukkan Jumlah Kolom:\"))\n",
    "\n",
    "create_matrix(baris,kolom)"
   ]
  },
  {
   "cell_type": "code",
   "execution_count": 27,
   "metadata": {},
   "outputs": [
    {
     "data": {
      "text/plain": [
       "array([[-3, -1],\n",
       "       [ 1,  3]])"
      ]
     },
     "execution_count": 27,
     "metadata": {},
     "output_type": "execute_result"
    }
   ],
   "source": [
    "#Buatlah fungsi untuk melakukan pengurangan antar dua matrix berdasarkan input user\n",
    "import numpy as np\n",
    "def kurang_matrix(matrixA, matrixB):\n",
    "    kurang = [[0,0],\n",
    "              [0,0]]\n",
    "\n",
    "    #Tulis kode kamu disini\n",
    "    kurang=matrixA - matrixB\n",
    "    return kurang\n",
    "    print(kurang)\n",
    "\n",
    "matrixA = np.array([[1,2],[3,4]])\n",
    "matrixB = np.array([[4,3],[2,1]])\n",
    "\n",
    "kurang_matrix(matrixA,matrixB)"
   ]
  },
  {
   "cell_type": "code",
   "execution_count": 34,
   "metadata": {},
   "outputs": [
    {
     "data": {
      "text/plain": [
       "array([[ 3.,  6.],\n",
       "       [ 9., 12.]])"
      ]
     },
     "execution_count": 34,
     "metadata": {},
     "output_type": "execute_result"
    }
   ],
   "source": [
    "#Buatlah Fungsi untuk melakukan pembagian matrix dengan skalar berdasarkan input user\n",
    "import numpy as np\n",
    "def bagi_matrix(matrix1, skalar):\n",
    "    hasil = [[0,0],\n",
    "             [0,0]]\n",
    "\n",
    "    #Tulis kode kamu disini\n",
    "    hasil = matrix1/skalar\n",
    "     \n",
    "    return hasil\n",
    "\n",
    "matrix1 = np.array([[6,12],[18,24]])\n",
    "skalar = int(input(\"\\tMatrix dibagi berapa?\"))\n",
    "\n",
    "bagi_matrix(matrix1, skalar)"
   ]
  }
 ],
 "metadata": {
  "kernelspec": {
   "display_name": "Python 3",
   "language": "python",
   "name": "python3"
  },
  "language_info": {
   "codemirror_mode": {
    "name": "ipython",
    "version": 3
   },
   "file_extension": ".py",
   "mimetype": "text/x-python",
   "name": "python",
   "nbconvert_exporter": "python",
   "pygments_lexer": "ipython3",
   "version": "3.10.7"
  },
  "orig_nbformat": 4
 },
 "nbformat": 4,
 "nbformat_minor": 2
}
