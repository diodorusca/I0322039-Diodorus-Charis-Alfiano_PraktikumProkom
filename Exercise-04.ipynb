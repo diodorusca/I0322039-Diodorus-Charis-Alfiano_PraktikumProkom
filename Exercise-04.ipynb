{
 "cells": [
  {
   "cell_type": "code",
   "execution_count": 2,
   "metadata": {},
   "outputs": [
    {
     "name": "stdout",
     "output_type": "stream",
     "text": [
      "Diodorus\n",
      "I0322039\n",
      "B\n"
     ]
    }
   ],
   "source": [
    "print(input(\"Nama: \"))\n",
    "print(input(\"NIM: \"))\n",
    "print(input(\"Kelas: \"))"
   ]
  },
  {
   "attachments": {},
   "cell_type": "markdown",
   "metadata": {},
   "source": [
    "## 1."
   ]
  },
  {
   "attachments": {},
   "cell_type": "markdown",
   "metadata": {},
   "source": [
    "Buatlah program yang meminta input string dari user, kemudian program akan menentukan string tersebut adalah palyndrome atau bukan.<br>\n",
    "* Palyndrome adalah kata atau kalimat yang jika dibalik hasilnya sama\n",
    "* kasur rusak adalah palyndrome\n",
    "\n",
    "> *note: Kerjakan soal ini dengan percabangan*"
   ]
  },
  {
   "cell_type": "code",
   "execution_count": 8,
   "metadata": {},
   "outputs": [
    {
     "name": "stdout",
     "output_type": "stream",
     "text": [
      "kata hehe eheh merupakan kata palyndrome\n"
     ]
    }
   ],
   "source": [
    "# Kerjakan soal no 1 di sini\n",
    "\n",
    "kata = str(input(\"masukkan kata: \"))\n",
    "\n",
    "hasil = kata[::-1]\n",
    "\n",
    "if kata == hasil:\n",
    "    print(\"kata\", kata, \"merupakan kata palyndrome\")\n",
    "else:\n",
    "    print(\"kata\", kata, \"bukan merupakan kata palyndrome\")\n",
    "\n"
   ]
  },
  {
   "attachments": {},
   "cell_type": "markdown",
   "metadata": {},
   "source": [
    "## 2."
   ]
  },
  {
   "attachments": {},
   "cell_type": "markdown",
   "metadata": {},
   "source": [
    "Buatlah program yang meminta input berupa tahun dan bulan kemudian tampilkan jumlah hari pada bulan tersebut (perbedaan pada tahun kabisat).<br>\n",
    "\n",
    "> *note: Kerjakan soal ini dengan percabangan*"
   ]
  },
  {
   "cell_type": "code",
   "execution_count": 17,
   "metadata": {},
   "outputs": [
    {
     "name": "stdout",
     "output_type": "stream",
     "text": [
      "Tahun 2016 bulan Februari memiliki hari berjumlah 29 hari\n"
     ]
    }
   ],
   "source": [
    "# Kerjakan soal no 2 di sini\n",
    "tahun=int(input(\"masukkan tahun: \"))\n",
    "bulan=str(input(\"masukkan bulan: \"))\n",
    "\n",
    "bulan2=(bulan.lower())\n",
    "\n",
    "Bulan={\"normal\":\n",
    "       {\"januari\":31, \"februari\": 28, \"maret\": 31, \"april\":30, \"mei\":31, \"juni\":30, \"juli\":31, \"agustus\":31, \"september\":30, \"oktober\":31, \"november\":30, \"desember\":31,},\n",
    "        \"kabisat\":\n",
    "        {\"januari\":31, \"februari\": 29, \"maret\": 31, \"april\":30, \"mei\":31, \"juni\":30, \"juli\":31, \"agustus\":31, \"september\":30, \"oktober\":31, \"november\":30, \"desember\":31,} \n",
    "         }\n",
    "  \n",
    "if tahun % 400 == 0 or (tahun % 4 == 0 and tahun % 100 != 0):\n",
    "    print(\"Tahun\", tahun, \"bulan\", bulan, \"memiliki hari berjumlah\", Bulan[\"kabisat\"][bulan2], \"hari\")\n",
    "else:\n",
    "    print(\"Tahun\", tahun, \"bulan\", bulan, \"memiliki hari berjumlah\", Bulan[\"normal\"][bulan2], \"hari\")"
   ]
  }
 ],
 "metadata": {
  "kernelspec": {
   "display_name": "Python 3",
   "language": "python",
   "name": "python3"
  },
  "language_info": {
   "codemirror_mode": {
    "name": "ipython",
    "version": 3
   },
   "file_extension": ".py",
   "mimetype": "text/x-python",
   "name": "python",
   "nbconvert_exporter": "python",
   "pygments_lexer": "ipython3",
   "version": "3.10.7"
  },
  "orig_nbformat": 4
 },
 "nbformat": 4,
 "nbformat_minor": 2
}
