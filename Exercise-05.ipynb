{
 "cells": [
  {
   "attachments": {},
   "cell_type": "markdown",
   "metadata": {},
   "source": [
    "1. Diberikan List sebagai berikut!"
   ]
  },
  {
   "cell_type": "code",
   "execution_count": 20,
   "metadata": {},
   "outputs": [],
   "source": [
    "list1 = ['a','b','c']\n",
    "list2 = ['c','d','e']"
   ]
  },
  {
   "attachments": {},
   "cell_type": "markdown",
   "metadata": {},
   "source": [
    "Buatlah program pengulangan untuk menampilkan elemen dalam kedua list tersebut yang sama! (Contoh Output \"Nilai yang sama adalah 'C'\")"
   ]
  },
  {
   "cell_type": "code",
   "execution_count": 21,
   "metadata": {},
   "outputs": [
    {
     "name": "stdout",
     "output_type": "stream",
     "text": [
      "Nilai yang sama adalah c\n"
     ]
    }
   ],
   "source": [
    "# Kerjakan nomor 1 di sini\n",
    "\n",
    "for i in list1:\n",
    "    if i in list2:\n",
    "        print(f\"Nilai yang sama adalah {i}\")\n",
    "    \n"
   ]
  },
  {
   "attachments": {},
   "cell_type": "markdown",
   "metadata": {},
   "source": [
    "2. Buatlah sebuah list yang berisi daftar mata kuliah di Teknik Industri UNS (minimal 10 matkul). Kemudian buat program pencarian menggunakan pengulangan. Apabila nama matkul yang user inputkan sudah sesuai dengan isi list maka program akan berhenti dan menampilkan output \"Mata Kuliah (matkul yang diinput user) adalah mata kuliah di Teknik Industri UNS\"."
   ]
  },
  {
   "cell_type": "code",
   "execution_count": 18,
   "metadata": {},
   "outputs": [
    {
     "name": "stdout",
     "output_type": "stream",
     "text": [
      "pengantar teknik industri\n",
      "pengantar ilmu ekonomi\n",
      "sistem lingkungan industri\n",
      "menggambar teknik\n",
      "fisika Dasar\n",
      "kimia dasar\n",
      "kalkulus\n",
      "programa komputer\n",
      "analisis dan estimasi biaya\n",
      "pengantar rekayasa dan desain\n",
      "psikologi industri\n",
      "mekanika teknik\n",
      "material teknik\n",
      "biologi\n",
      "ekonomi manufaktur\n",
      "Ergonomi dan perancangan kerja\n",
      "statistika industri\n",
      "rekayasa kualitas\n",
      "Mata Kuliah statistika industri adalah mata kuliah di Teknik Industri UNS\n"
     ]
    }
   ],
   "source": [
    "#kerjakan nomor 2 di sini\n",
    "\n",
    "list = [\"pengantar teknik industri\", \"pengantar ilmu ekonomi\", \"sistem lingkungan industri\", \"menggambar teknik\", \n",
    "        \"fisika Dasar\", \"kimia dasar\", \"kalkulus\", \"programa komputer\", \"analisis dan estimasi biaya\", \n",
    "        \"pengantar rekayasa dan desain\", \"psikologi industri\", \"mekanika teknik\", \"material teknik\", \"biologi\", \n",
    "        \"ekonomi manufaktur\", \"Ergonomi dan perancangan kerja\", \"statistika industri\", \"rekayasa kualitas\"]\n",
    "for isi in list:\n",
    "    print(isi)\n",
    "\n",
    "matkul = str(input(\"masukkan nilai: \"))\n",
    "matkul = matkul.lower()\n",
    "\n",
    "for i in range(len(list)):\n",
    "    if list[i] == matkul:\n",
    "        print(f\"Mata Kuliah {matkul} adalah mata kuliah di Teknik Industri UNS\")\n",
    "        break\n",
    "else:\n",
    "    print(f\"Mata Kuliah {matkul} bukan mata kuliah di Teknik Industri UNS\")\n"
   ]
  },
  {
   "attachments": {},
   "cell_type": "markdown",
   "metadata": {},
   "source": [
    "3. Buatlah program untuk menampilkan faktorial dari suatu bilangan dimana bilangan tersebut didapat melalui input user!"
   ]
  },
  {
   "cell_type": "code",
   "execution_count": 10,
   "metadata": {},
   "outputs": [
    {
     "name": "stdout",
     "output_type": "stream",
     "text": [
      "Hasil faktorial dari 6! adalah 720\n"
     ]
    }
   ],
   "source": [
    "# Kerjakan nomor 3 di sini\n",
    "\n",
    "angka=int(input(\"masukkan sebuah angka: \"))\n",
    "nilai=1\n",
    "\n",
    "for hasil in range (1, angka+1):\n",
    "    nilai = nilai*hasil\n",
    "print(f\"Hasil faktorial dari {angka}! adalah {nilai}\")\n"
   ]
  }
 ],
 "metadata": {
  "kernelspec": {
   "display_name": "Python 3",
   "language": "python",
   "name": "python3"
  },
  "language_info": {
   "codemirror_mode": {
    "name": "ipython",
    "version": 3
   },
   "file_extension": ".py",
   "mimetype": "text/x-python",
   "name": "python",
   "nbconvert_exporter": "python",
   "pygments_lexer": "ipython3",
   "version": "3.10.7"
  },
  "orig_nbformat": 4
 },
 "nbformat": 4,
 "nbformat_minor": 2
}
